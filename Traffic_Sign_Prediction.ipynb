{
  "nbformat": 4,
  "nbformat_minor": 0,
  "metadata": {
    "colab": {
      "provenance": [],
      "authorship_tag": "ABX9TyNUNlDsehPzfXVeZzRU7pCo",
      "include_colab_link": true
    },
    "kernelspec": {
      "name": "python3",
      "display_name": "Python 3"
    },
    "language_info": {
      "name": "python"
    },
    "accelerator": "GPU",
    "gpuClass": "standard"
  },
  "cells": [
    {
      "cell_type": "markdown",
      "metadata": {
        "id": "view-in-github",
        "colab_type": "text"
      },
      "source": [
        "<a href=\"https://colab.research.google.com/github/sakp7/Traffic-Sign-Prediction/blob/main/Traffic_Sign_Prediction.ipynb\" target=\"_parent\"><img src=\"https://colab.research.google.com/assets/colab-badge.svg\" alt=\"Open In Colab\"/></a>"
      ]
    },
    {
      "cell_type": "code",
      "execution_count": 1,
      "metadata": {
        "colab": {
          "base_uri": "https://localhost:8080/",
          "height": 91
        },
        "id": "y6bYtFpUy2wC",
        "outputId": "e15c4466-b4da-4b46-d8e0-df5f8d2f1f76"
      },
      "outputs": [
        {
          "output_type": "display_data",
          "data": {
            "text/plain": [
              "<IPython.core.display.HTML object>"
            ],
            "text/html": [
              "\n",
              "     <input type=\"file\" id=\"files-7cef7e33-b6cd-42a9-8826-638c9bc67c14\" name=\"files[]\" multiple disabled\n",
              "        style=\"border:none\" />\n",
              "     <output id=\"result-7cef7e33-b6cd-42a9-8826-638c9bc67c14\">\n",
              "      Upload widget is only available when the cell has been executed in the\n",
              "      current browser session. Please rerun this cell to enable.\n",
              "      </output>\n",
              "      <script>// Copyright 2017 Google LLC\n",
              "//\n",
              "// Licensed under the Apache License, Version 2.0 (the \"License\");\n",
              "// you may not use this file except in compliance with the License.\n",
              "// You may obtain a copy of the License at\n",
              "//\n",
              "//      http://www.apache.org/licenses/LICENSE-2.0\n",
              "//\n",
              "// Unless required by applicable law or agreed to in writing, software\n",
              "// distributed under the License is distributed on an \"AS IS\" BASIS,\n",
              "// WITHOUT WARRANTIES OR CONDITIONS OF ANY KIND, either express or implied.\n",
              "// See the License for the specific language governing permissions and\n",
              "// limitations under the License.\n",
              "\n",
              "/**\n",
              " * @fileoverview Helpers for google.colab Python module.\n",
              " */\n",
              "(function(scope) {\n",
              "function span(text, styleAttributes = {}) {\n",
              "  const element = document.createElement('span');\n",
              "  element.textContent = text;\n",
              "  for (const key of Object.keys(styleAttributes)) {\n",
              "    element.style[key] = styleAttributes[key];\n",
              "  }\n",
              "  return element;\n",
              "}\n",
              "\n",
              "// Max number of bytes which will be uploaded at a time.\n",
              "const MAX_PAYLOAD_SIZE = 100 * 1024;\n",
              "\n",
              "function _uploadFiles(inputId, outputId) {\n",
              "  const steps = uploadFilesStep(inputId, outputId);\n",
              "  const outputElement = document.getElementById(outputId);\n",
              "  // Cache steps on the outputElement to make it available for the next call\n",
              "  // to uploadFilesContinue from Python.\n",
              "  outputElement.steps = steps;\n",
              "\n",
              "  return _uploadFilesContinue(outputId);\n",
              "}\n",
              "\n",
              "// This is roughly an async generator (not supported in the browser yet),\n",
              "// where there are multiple asynchronous steps and the Python side is going\n",
              "// to poll for completion of each step.\n",
              "// This uses a Promise to block the python side on completion of each step,\n",
              "// then passes the result of the previous step as the input to the next step.\n",
              "function _uploadFilesContinue(outputId) {\n",
              "  const outputElement = document.getElementById(outputId);\n",
              "  const steps = outputElement.steps;\n",
              "\n",
              "  const next = steps.next(outputElement.lastPromiseValue);\n",
              "  return Promise.resolve(next.value.promise).then((value) => {\n",
              "    // Cache the last promise value to make it available to the next\n",
              "    // step of the generator.\n",
              "    outputElement.lastPromiseValue = value;\n",
              "    return next.value.response;\n",
              "  });\n",
              "}\n",
              "\n",
              "/**\n",
              " * Generator function which is called between each async step of the upload\n",
              " * process.\n",
              " * @param {string} inputId Element ID of the input file picker element.\n",
              " * @param {string} outputId Element ID of the output display.\n",
              " * @return {!Iterable<!Object>} Iterable of next steps.\n",
              " */\n",
              "function* uploadFilesStep(inputId, outputId) {\n",
              "  const inputElement = document.getElementById(inputId);\n",
              "  inputElement.disabled = false;\n",
              "\n",
              "  const outputElement = document.getElementById(outputId);\n",
              "  outputElement.innerHTML = '';\n",
              "\n",
              "  const pickedPromise = new Promise((resolve) => {\n",
              "    inputElement.addEventListener('change', (e) => {\n",
              "      resolve(e.target.files);\n",
              "    });\n",
              "  });\n",
              "\n",
              "  const cancel = document.createElement('button');\n",
              "  inputElement.parentElement.appendChild(cancel);\n",
              "  cancel.textContent = 'Cancel upload';\n",
              "  const cancelPromise = new Promise((resolve) => {\n",
              "    cancel.onclick = () => {\n",
              "      resolve(null);\n",
              "    };\n",
              "  });\n",
              "\n",
              "  // Wait for the user to pick the files.\n",
              "  const files = yield {\n",
              "    promise: Promise.race([pickedPromise, cancelPromise]),\n",
              "    response: {\n",
              "      action: 'starting',\n",
              "    }\n",
              "  };\n",
              "\n",
              "  cancel.remove();\n",
              "\n",
              "  // Disable the input element since further picks are not allowed.\n",
              "  inputElement.disabled = true;\n",
              "\n",
              "  if (!files) {\n",
              "    return {\n",
              "      response: {\n",
              "        action: 'complete',\n",
              "      }\n",
              "    };\n",
              "  }\n",
              "\n",
              "  for (const file of files) {\n",
              "    const li = document.createElement('li');\n",
              "    li.append(span(file.name, {fontWeight: 'bold'}));\n",
              "    li.append(span(\n",
              "        `(${file.type || 'n/a'}) - ${file.size} bytes, ` +\n",
              "        `last modified: ${\n",
              "            file.lastModifiedDate ? file.lastModifiedDate.toLocaleDateString() :\n",
              "                                    'n/a'} - `));\n",
              "    const percent = span('0% done');\n",
              "    li.appendChild(percent);\n",
              "\n",
              "    outputElement.appendChild(li);\n",
              "\n",
              "    const fileDataPromise = new Promise((resolve) => {\n",
              "      const reader = new FileReader();\n",
              "      reader.onload = (e) => {\n",
              "        resolve(e.target.result);\n",
              "      };\n",
              "      reader.readAsArrayBuffer(file);\n",
              "    });\n",
              "    // Wait for the data to be ready.\n",
              "    let fileData = yield {\n",
              "      promise: fileDataPromise,\n",
              "      response: {\n",
              "        action: 'continue',\n",
              "      }\n",
              "    };\n",
              "\n",
              "    // Use a chunked sending to avoid message size limits. See b/62115660.\n",
              "    let position = 0;\n",
              "    do {\n",
              "      const length = Math.min(fileData.byteLength - position, MAX_PAYLOAD_SIZE);\n",
              "      const chunk = new Uint8Array(fileData, position, length);\n",
              "      position += length;\n",
              "\n",
              "      const base64 = btoa(String.fromCharCode.apply(null, chunk));\n",
              "      yield {\n",
              "        response: {\n",
              "          action: 'append',\n",
              "          file: file.name,\n",
              "          data: base64,\n",
              "        },\n",
              "      };\n",
              "\n",
              "      let percentDone = fileData.byteLength === 0 ?\n",
              "          100 :\n",
              "          Math.round((position / fileData.byteLength) * 100);\n",
              "      percent.textContent = `${percentDone}% done`;\n",
              "\n",
              "    } while (position < fileData.byteLength);\n",
              "  }\n",
              "\n",
              "  // All done.\n",
              "  yield {\n",
              "    response: {\n",
              "      action: 'complete',\n",
              "    }\n",
              "  };\n",
              "}\n",
              "\n",
              "scope.google = scope.google || {};\n",
              "scope.google.colab = scope.google.colab || {};\n",
              "scope.google.colab._files = {\n",
              "  _uploadFiles,\n",
              "  _uploadFilesContinue,\n",
              "};\n",
              "})(self);\n",
              "</script> "
            ]
          },
          "metadata": {}
        },
        {
          "output_type": "stream",
          "name": "stdout",
          "text": [
            "Saving kaggle.json to kaggle.json\n"
          ]
        },
        {
          "output_type": "execute_result",
          "data": {
            "text/plain": [
              "{'kaggle.json': b'{\"username\":\"ramsaketh\",\"key\":\"76d2cd90f36d80bf7a36e80aee61c295\"}'}"
            ]
          },
          "metadata": {},
          "execution_count": 1
        }
      ],
      "source": [
        "from google.colab import files\n",
        "files.upload()"
      ]
    },
    {
      "cell_type": "code",
      "source": [
        "!pip install -q kaggle"
      ],
      "metadata": {
        "id": "hYCq9sKWzlmk"
      },
      "execution_count": 2,
      "outputs": []
    },
    {
      "cell_type": "code",
      "source": [
        "# The Kaggle API client expects this file to be in ~/.kaggle, so move it there.\n",
        "!mkdir -p ~/.kaggle\n",
        "!cp kaggle.json ~/.kaggle/\n",
        "\n",
        "# This permissions change avoids a warning on Kaggle tool startup.\n",
        "!chmod 600 ~/.kaggle/kaggle.json"
      ],
      "metadata": {
        "id": "EHWqEr2Ez1VC"
      },
      "execution_count": 3,
      "outputs": []
    },
    {
      "cell_type": "code",
      "source": [
        "# Creating directory and changing the current working directory\n",
        "!mkdir traffic_sign_dataset\n",
        "%cd traffic_sign_dataset"
      ],
      "metadata": {
        "colab": {
          "base_uri": "https://localhost:8080/"
        },
        "id": "4T_dumHM0OLa",
        "outputId": "d59e0f6a-885c-4228-90d9-1dde1108f3d2"
      },
      "execution_count": 4,
      "outputs": [
        {
          "output_type": "stream",
          "name": "stdout",
          "text": [
            "/content/traffic_sign_dataset\n"
          ]
        }
      ]
    },
    {
      "cell_type": "code",
      "source": [
        "# Searching for dataset\n",
        "!kaggle datasets list -s gtsrb-german-traffic-sign"
      ],
      "metadata": {
        "colab": {
          "base_uri": "https://localhost:8080/"
        },
        "id": "SB2DVry90h2z",
        "outputId": "b1dfaeda-0dc9-47c8-e31a-7dbe1a9a1df4"
      },
      "execution_count": 5,
      "outputs": [
        {
          "output_type": "stream",
          "name": "stdout",
          "text": [
            "ref                                                                title                                               size  lastUpdated          downloadCount  voteCount  usabilityRating  \n",
            "-----------------------------------------------------------------  -------------------------------------------------  -----  -------------------  -------------  ---------  ---------------  \n",
            "meowmeowmeowmeowmeow/gtsrb-german-traffic-sign                     GTSRB - German Traffic Sign Recognition Benchmark  612MB  2018-11-25 18:12:34          72842        906  0.8235294        \n",
            "valentynsichkar/traffic-signs-preprocessed                         Traffic Signs Preprocessed                           4GB  2019-08-31 18:22:11           9493        239  1.0              \n",
            "eunjurho/german-traffic-sign-recognition-benchmark-cropped         german_traffic_sign_recognition_benchmark_cropped  206MB  2019-11-10 15:22:13            337          8  0.75             \n",
            "bhavinmoriya/german-traffic-sign-recognition-benchmark             German Traffic Sign Recognition Benchmark          306MB  2021-12-17 17:03:58             47          5  0.3529412        \n",
            "valentynsichkar/traffic-signs-1-million-images-for-classification  Traffic Signs 1 million images for Classification   20GB  2021-02-08 16:45:43            321          8  1.0              \n",
            "valentynsichkar/preprocessed-light-version-of-traffic-signs        Pre-processed Light version of Traffic Signs         8GB  2021-04-10 13:35:24             49          3  1.0              \n",
            "ibrahimkaratas/gtsrb-german-traffic-sign-recognition-benchmark     GTSRB German Traffic Sign Recognition Benchmark    231MB  2023-01-08 16:48:07              0          1  0.4375           \n",
            "riyajoshi30/traffic                                                Traffic                                             12KB  2020-10-26 06:36:23              5          1  0.25             \n"
          ]
        }
      ]
    },
    {
      "cell_type": "code",
      "source": [
        "# Downloading dataset and coming out of directory\n",
        "!kaggle datasets download meowmeowmeowmeowmeow/gtsrb-german-traffic-sign  \n",
        "%cd .."
      ],
      "metadata": {
        "colab": {
          "base_uri": "https://localhost:8080/"
        },
        "id": "j18311kg0ilJ",
        "outputId": "8082d15d-c3af-48ff-cc0e-74f112b4e537"
      },
      "execution_count": 6,
      "outputs": [
        {
          "output_type": "stream",
          "name": "stdout",
          "text": [
            "Downloading gtsrb-german-traffic-sign.zip to /content/traffic_sign_dataset\n",
            "100% 612M/612M [00:18<00:00, 33.7MB/s]\n",
            "100% 612M/612M [00:18<00:00, 34.0MB/s]\n",
            "/content\n"
          ]
        }
      ]
    },
    {
      "cell_type": "code",
      "source": [
        "# Unzipping downloaded file and removing unusable file\n",
        "!unzip traffic_sign_dataset/gtsrb-german-traffic-sign.zip -d traffic_sign_dataset\n",
        "!rm traffic_sign_dataset/gtsrb-german-traffic-sign.zip\n",
        "!rm -rf traffic_sign_dataset/Meta\n",
        "!rm -rf traffic_sign_dataset/meta\n",
        "!rm -rf traffic_sign_dataset/test\n",
        "!rm -rf traffic_sign_dataset/train\n",
        "!rm traffic_sign_dataset/Meta.csv"
      ],
      "metadata": {
        "id": "F9tek82b0m6i"
      },
      "execution_count": null,
      "outputs": []
    },
    {
      "cell_type": "code",
      "source": [
        "# Importing libraries\n",
        "import os\n",
        "import pandas as pd\n",
        "import numpy as np\n",
        "import matplotlib.pyplot as plt\n",
        "from matplotlib.image import imread\n",
        "import seaborn as sns\n",
        "import random\n",
        "from PIL import Image\n",
        "from sklearn.model_selection import  train_test_split\n",
        "from tensorflow.keras.utils import to_categorical\n",
        "import tensorflow as tf\n",
        "from tensorflow.keras.models import Sequential\n",
        "from tensorflow.keras.layers import Dense, Flatten, Dropout, Conv2D, MaxPool2D"
      ],
      "metadata": {
        "id": "Gtsx-M4g0_Yt"
      },
      "execution_count": 8,
      "outputs": []
    },
    {
      "cell_type": "code",
      "source": [
        "# As size of images are different we have to make them equal so we will take mean of dimanesions\n",
        "dim1 = []\n",
        "dim2 = []\n",
        "\n",
        "for i in range(0,43):\n",
        "    labels = 'traffic_sign_dataset/Train' + '/{0}'.format(i)\n",
        "    image_path = os.listdir(labels)\n",
        "    for x in image_path:\n",
        "        img = imread(labels + '/' + x)\n",
        "        dim1.append(img.shape[0])\n",
        "        dim2.append(img.shape[1])"
      ],
      "metadata": {
        "id": "tg0O0phF1EwO"
      },
      "execution_count": 9,
      "outputs": []
    },
    {
      "cell_type": "code",
      "source": [
        "#Printing mean dimension of images\n",
        "print(\"Dimension 1 Mean : \",np.mean(dim1), \" Dimension 2 Mean : \",np.mean(dim2))"
      ],
      "metadata": {
        "colab": {
          "base_uri": "https://localhost:8080/"
        },
        "id": "HW3iIA4v1gdC",
        "outputId": "d0ca3f72-c69d-4a8b-dc35-6a63c9a9de02"
      },
      "execution_count": 10,
      "outputs": [
        {
          "output_type": "stream",
          "name": "stdout",
          "text": [
            "Dimension 1 Mean :  50.328929582493814  Dimension 2 Mean :  50.83587951745773\n"
          ]
        }
      ]
    },
    {
      "cell_type": "code",
      "source": [
        "# Now we will reshape the images to (50,50)\n",
        "images = []\n",
        "label_id = []\n",
        "\n",
        "for i in range(43):\n",
        "    labels = 'traffic_sign_dataset/Train' + '/{0}'.format(i)\n",
        "    image_path = os.listdir(labels)\n",
        "    for x in image_path:\n",
        "        img = Image.open(labels + '/' + x)\n",
        "        img = img.resize((50,50))\n",
        "        img = np.array(img)\n",
        "        images.append(img)\n",
        "        label_id.append(i)"
      ],
      "metadata": {
        "id": "QYgPWDtk1ktG"
      },
      "execution_count": 11,
      "outputs": []
    },
    {
      "cell_type": "code",
      "source": [
        "#Converting images into numpy array\n",
        "images = np.array(images)\n",
        "#The pixel value of each image ranges between 0 and 255\n",
        "#Dividing each image by 255 will scale the values between 0 and 1. This is also known as normalization.\n",
        "images = images/255 "
      ],
      "metadata": {
        "id": "vmpcSHzI1oQe"
      },
      "execution_count": 12,
      "outputs": []
    },
    {
      "cell_type": "code",
      "source": [
        "label_id = np.array(label_id)\n",
        "label_id.shape"
      ],
      "metadata": {
        "colab": {
          "base_uri": "https://localhost:8080/"
        },
        "id": "vW9H6Zcl1wsC",
        "outputId": "ac12ddb7-6c5e-45a5-e82d-7f8fcf619a54"
      },
      "execution_count": 13,
      "outputs": [
        {
          "output_type": "execute_result",
          "data": {
            "text/plain": [
              "(39209,)"
            ]
          },
          "metadata": {},
          "execution_count": 13
        }
      ]
    },
    {
      "cell_type": "code",
      "source": [
        "images.shape"
      ],
      "metadata": {
        "colab": {
          "base_uri": "https://localhost:8080/"
        },
        "id": "XRcQ6_-F13dK",
        "outputId": "3207000b-1c80-492f-ab31-501301e78a8f"
      },
      "execution_count": 14,
      "outputs": [
        {
          "output_type": "execute_result",
          "data": {
            "text/plain": [
              "(39209, 50, 50, 3)"
            ]
          },
          "metadata": {},
          "execution_count": 14
        }
      ]
    },
    {
      "cell_type": "code",
      "source": [
        "# Visualize the number of classes count\n",
        "label_counts = pd.DataFrame(label_id).value_counts()\n",
        "label_counts.head()"
      ],
      "metadata": {
        "colab": {
          "base_uri": "https://localhost:8080/"
        },
        "id": "eOaux2mo1w5E",
        "outputId": "4c36ceda-30ba-45db-e6c5-cf900e08d2ad"
      },
      "execution_count": 15,
      "outputs": [
        {
          "output_type": "execute_result",
          "data": {
            "text/plain": [
              "2     2250\n",
              "1     2220\n",
              "13    2160\n",
              "12    2100\n",
              "38    2070\n",
              "dtype: int64"
            ]
          },
          "metadata": {},
          "execution_count": 15
        }
      ]
    },
    {
      "cell_type": "code",
      "source": [
        "#Splitting the data\n",
        "x_train, x_val, y_train, y_val = train_test_split(images, label_id , test_size = 0.2, random_state = 42)"
      ],
      "metadata": {
        "id": "rCkUkDZl2DZi"
      },
      "execution_count": 16,
      "outputs": []
    },
    {
      "cell_type": "code",
      "source": [
        "#keras has a built-in function for one-hot encoding.\n",
        "y_train_cat = to_categorical(y_train)\n",
        "y_val_cat = to_categorical(y_val)"
      ],
      "metadata": {
        "id": "AODKUcR71xCm"
      },
      "execution_count": 17,
      "outputs": []
    },
    {
      "cell_type": "code",
      "source": [
        "model = Sequential()\n",
        "\n",
        "model.add(Conv2D(filters = 64, kernel_size = (3,3), input_shape = x_train.shape[1:], activation = 'relu', padding = 'same'))\n",
        "model.add(MaxPool2D(pool_size=(2,2)))\n",
        "model.add(Dropout(0.5))\n",
        "\n",
        "model.add(Conv2D(filters = 64, kernel_size = (3,3), activation = 'relu'))\n",
        "model.add(MaxPool2D(pool_size=(2,2)))\n",
        "model.add(Dropout(0.5))\n",
        "\n",
        "model.add(Flatten())\n",
        "model.add(Dense(128, activation = 'relu'))\n",
        "model.add(Dropout(0.5))\n",
        "model.add(Dense(43, activation = 'softmax'))"
      ],
      "metadata": {
        "id": "CrwczXuT2W49"
      },
      "execution_count": 18,
      "outputs": []
    },
    {
      "cell_type": "code",
      "source": [
        "model.compile(loss = 'sparse_categorical_crossentropy', optimizer = 'adam', metrics = ['accuracy'])\n",
        "model.summary()"
      ],
      "metadata": {
        "colab": {
          "base_uri": "https://localhost:8080/"
        },
        "id": "KgW5kniI2XB6",
        "outputId": "e2a47512-5b28-4c5f-b0ee-681e75954d92"
      },
      "execution_count": 19,
      "outputs": [
        {
          "output_type": "stream",
          "name": "stdout",
          "text": [
            "Model: \"sequential\"\n",
            "_________________________________________________________________\n",
            " Layer (type)                Output Shape              Param #   \n",
            "=================================================================\n",
            " conv2d (Conv2D)             (None, 50, 50, 64)        1792      \n",
            "                                                                 \n",
            " max_pooling2d (MaxPooling2D  (None, 25, 25, 64)       0         \n",
            " )                                                               \n",
            "                                                                 \n",
            " dropout (Dropout)           (None, 25, 25, 64)        0         \n",
            "                                                                 \n",
            " conv2d_1 (Conv2D)           (None, 23, 23, 64)        36928     \n",
            "                                                                 \n",
            " max_pooling2d_1 (MaxPooling  (None, 11, 11, 64)       0         \n",
            " 2D)                                                             \n",
            "                                                                 \n",
            " dropout_1 (Dropout)         (None, 11, 11, 64)        0         \n",
            "                                                                 \n",
            " flatten (Flatten)           (None, 7744)              0         \n",
            "                                                                 \n",
            " dense (Dense)               (None, 128)               991360    \n",
            "                                                                 \n",
            " dropout_2 (Dropout)         (None, 128)               0         \n",
            "                                                                 \n",
            " dense_1 (Dense)             (None, 43)                5547      \n",
            "                                                                 \n",
            "=================================================================\n",
            "Total params: 1,035,627\n",
            "Trainable params: 1,035,627\n",
            "Non-trainable params: 0\n",
            "_________________________________________________________________\n"
          ]
        }
      ]
    },
    {
      "cell_type": "code",
      "source": [
        "model.fit(x_train, y_train, epochs = 20, batch_size = 128, validation_data = (x_val, y_val), verbose = 2)"
      ],
      "metadata": {
        "colab": {
          "base_uri": "https://localhost:8080/"
        },
        "id": "uXktzLfp2XKk",
        "outputId": "fa69d3e5-1643-4ff4-ac93-4f390848497e"
      },
      "execution_count": 20,
      "outputs": [
        {
          "output_type": "stream",
          "name": "stdout",
          "text": [
            "Epoch 1/20\n",
            "246/246 - 13s - loss: 2.5621 - accuracy: 0.2982 - val_loss: 1.3523 - val_accuracy: 0.6509 - 13s/epoch - 53ms/step\n",
            "Epoch 2/20\n",
            "246/246 - 4s - loss: 1.2242 - accuracy: 0.6175 - val_loss: 0.5741 - val_accuracy: 0.8916 - 4s/epoch - 17ms/step\n",
            "Epoch 3/20\n",
            "246/246 - 4s - loss: 0.7667 - accuracy: 0.7540 - val_loss: 0.2990 - val_accuracy: 0.9445 - 4s/epoch - 17ms/step\n",
            "Epoch 4/20\n",
            "246/246 - 4s - loss: 0.5804 - accuracy: 0.8119 - val_loss: 0.2090 - val_accuracy: 0.9601 - 4s/epoch - 17ms/step\n",
            "Epoch 5/20\n",
            "246/246 - 4s - loss: 0.4786 - accuracy: 0.8468 - val_loss: 0.1455 - val_accuracy: 0.9711 - 4s/epoch - 17ms/step\n",
            "Epoch 6/20\n",
            "246/246 - 4s - loss: 0.4101 - accuracy: 0.8670 - val_loss: 0.1290 - val_accuracy: 0.9779 - 4s/epoch - 17ms/step\n",
            "Epoch 7/20\n",
            "246/246 - 4s - loss: 0.3615 - accuracy: 0.8844 - val_loss: 0.1022 - val_accuracy: 0.9819 - 4s/epoch - 17ms/step\n",
            "Epoch 8/20\n",
            "246/246 - 4s - loss: 0.3317 - accuracy: 0.8916 - val_loss: 0.0891 - val_accuracy: 0.9815 - 4s/epoch - 17ms/step\n",
            "Epoch 9/20\n",
            "246/246 - 4s - loss: 0.3049 - accuracy: 0.9007 - val_loss: 0.0847 - val_accuracy: 0.9837 - 4s/epoch - 17ms/step\n",
            "Epoch 10/20\n",
            "246/246 - 4s - loss: 0.2771 - accuracy: 0.9105 - val_loss: 0.0698 - val_accuracy: 0.9844 - 4s/epoch - 17ms/step\n",
            "Epoch 11/20\n",
            "246/246 - 4s - loss: 0.2672 - accuracy: 0.9138 - val_loss: 0.0750 - val_accuracy: 0.9872 - 4s/epoch - 17ms/step\n",
            "Epoch 12/20\n",
            "246/246 - 4s - loss: 0.2508 - accuracy: 0.9190 - val_loss: 0.0620 - val_accuracy: 0.9867 - 4s/epoch - 17ms/step\n",
            "Epoch 13/20\n",
            "246/246 - 4s - loss: 0.2339 - accuracy: 0.9236 - val_loss: 0.0601 - val_accuracy: 0.9876 - 4s/epoch - 17ms/step\n",
            "Epoch 14/20\n",
            "246/246 - 4s - loss: 0.2241 - accuracy: 0.9260 - val_loss: 0.0589 - val_accuracy: 0.9881 - 4s/epoch - 17ms/step\n",
            "Epoch 15/20\n",
            "246/246 - 4s - loss: 0.2177 - accuracy: 0.9281 - val_loss: 0.0498 - val_accuracy: 0.9895 - 4s/epoch - 17ms/step\n",
            "Epoch 16/20\n",
            "246/246 - 4s - loss: 0.2041 - accuracy: 0.9316 - val_loss: 0.0516 - val_accuracy: 0.9907 - 4s/epoch - 17ms/step\n",
            "Epoch 17/20\n",
            "246/246 - 4s - loss: 0.1896 - accuracy: 0.9372 - val_loss: 0.0452 - val_accuracy: 0.9904 - 4s/epoch - 17ms/step\n",
            "Epoch 18/20\n",
            "246/246 - 4s - loss: 0.1834 - accuracy: 0.9384 - val_loss: 0.0455 - val_accuracy: 0.9916 - 4s/epoch - 17ms/step\n",
            "Epoch 19/20\n",
            "246/246 - 4s - loss: 0.1808 - accuracy: 0.9404 - val_loss: 0.0437 - val_accuracy: 0.9902 - 4s/epoch - 17ms/step\n",
            "Epoch 20/20\n",
            "246/246 - 4s - loss: 0.1689 - accuracy: 0.9438 - val_loss: 0.0420 - val_accuracy: 0.9907 - 4s/epoch - 17ms/step\n"
          ]
        },
        {
          "output_type": "execute_result",
          "data": {
            "text/plain": [
              "<keras.callbacks.History at 0x7fd1b9c90d00>"
            ]
          },
          "metadata": {},
          "execution_count": 20
        }
      ]
    },
    {
      "cell_type": "code",
      "source": [
        "evaluation = pd.DataFrame(model.history.history)\n",
        "evaluation[['accuracy', 'val_accuracy']].plot()\n",
        "evaluation[['loss', 'val_loss']].plot()"
      ],
      "metadata": {
        "colab": {
          "base_uri": "https://localhost:8080/",
          "height": 530
        },
        "id": "lMJLyNHV2XSu",
        "outputId": "ec0ce17f-03de-43f3-a190-2a4d244d9fb1"
      },
      "execution_count": 21,
      "outputs": [
        {
          "output_type": "execute_result",
          "data": {
            "text/plain": [
              "<matplotlib.axes._subplots.AxesSubplot at 0x7fd15446b490>"
            ]
          },
          "metadata": {},
          "execution_count": 21
        },
        {
          "output_type": "display_data",
          "data": {
            "text/plain": [
              "<Figure size 432x288 with 1 Axes>"
            ],
            "image/png": "[encoded data removed]"
          },
          "metadata": {
            "needs_background": "light"
          }
        },
        {
          "output_type": "display_data",
          "data": {
            "text/plain": [
              "<Figure size 432x288 with 1 Axes>"
            ],
            "image/png": "[encoded data removed]"
          },
          "metadata": {
            "needs_background": "light"
          }
        }
      ]
    },
    {
      "cell_type": "code",
      "source": [
        "test_path = 'traffic_sign_dataset/Test'\n",
        "!rm traffic_sign_dataset/Test/GT-final_test.csv"
      ],
      "metadata": {
        "id": "4LGIbQmS429R"
      },
      "execution_count": 22,
      "outputs": []
    },
    {
      "cell_type": "code",
      "source": [
        "#defining a function that will scale images\n",
        "from PIL import Image\n",
        "\n",
        "def scaling(test_images, test_path):\n",
        "    images = []\n",
        "\n",
        "    image_path = test_images\n",
        "    \n",
        "    for x in image_path:\n",
        "        img = Image.open(test_path + '/' + x)\n",
        "        img = img.resize((50,50))\n",
        "        img = np.array(img)\n",
        "        images.append(img)\n",
        "\n",
        "    #Converting images into numpy array\n",
        "    images = np.array(images)\n",
        "    #The pixel value of each image ranges between 0 and 255\n",
        "    #Dividing each image by 255 will scale the values between 0 and 1. This is also known as normalization.\n",
        "    images = images/255\n",
        "\n",
        "    return images"
      ],
      "metadata": {
        "id": "t2HdGp7y43KI"
      },
      "execution_count": 23,
      "outputs": []
    },
    {
      "cell_type": "code",
      "source": [
        "test_images = scaling(sorted(os.listdir(test_path)),test_path)"
      ],
      "metadata": {
        "id": "k5Zf2icl43Sz"
      },
      "execution_count": 33,
      "outputs": []
    },
    {
      "cell_type": "code",
      "source": [
        "test = pd.read_csv('traffic_sign_dataset/Test.csv')\n",
        "y_test = test['ClassId'].values\n",
        "y_test"
      ],
      "metadata": {
        "colab": {
          "base_uri": "https://localhost:8080/"
        },
        "id": "yeKUFdwJ43cy",
        "outputId": "34b96221-a36d-4720-d9fd-a4b229e0c4e5"
      },
      "execution_count": 34,
      "outputs": [
        {
          "output_type": "execute_result",
          "data": {
            "text/plain": [
              "array([16,  1, 38, ...,  6,  7, 10])"
            ]
          },
          "metadata": {},
          "execution_count": 34
        }
      ]
    },
    {
      "cell_type": "code",
      "source": [
        "y_pred = model.predict(test_images);\n",
        "y_pred"
      ],
      "metadata": {
        "colab": {
          "base_uri": "https://localhost:8080/"
        },
        "id": "pAn5N3tk43mp",
        "outputId": "4dfe338e-e54a-4f06-ee62-831939560153"
      },
      "execution_count": 38,
      "outputs": [
        {
          "output_type": "stream",
          "name": "stdout",
          "text": [
            "395/395 [==============================] - 1s 3ms/step\n"
          ]
        },
        {
          "output_type": "execute_result",
          "data": {
            "text/plain": [
              "array([[3.9085807e-21, 2.3396478e-17, 3.0762369e-20, ..., 2.0706295e-19,\n",
              "        1.7682091e-17, 5.9128497e-10],\n",
              "       [1.5539540e-10, 9.9999857e-01, 1.4307203e-07, ..., 2.0486741e-21,\n",
              "        3.9310776e-31, 4.3392104e-29],\n",
              "       [0.0000000e+00, 0.0000000e+00, 0.0000000e+00, ..., 1.5147249e-22,\n",
              "        4.5481249e-34, 1.7702431e-31],\n",
              "       ...,\n",
              "       [7.4745312e-09, 1.3765617e-07, 1.2935098e-04, ..., 3.4778690e-04,\n",
              "        2.2860696e-03, 3.4401536e-02],\n",
              "       [8.4942184e-07, 3.9941358e-05, 3.6759895e-05, ..., 6.1608371e-06,\n",
              "        5.3215255e-11, 9.6498889e-07],\n",
              "       [7.3876100e-11, 2.8321887e-09, 1.4237908e-07, ..., 5.6640591e-08,\n",
              "        1.4057133e-10, 9.6806139e-07]], dtype=float32)"
            ]
          },
          "metadata": {},
          "execution_count": 38
        }
      ]
    },
    {
      "cell_type": "code",
      "source": [
        "# predict_x=model.predict(test_images) \n",
        "y_pred=np.argmax(y_pred,axis=1)"
      ],
      "metadata": {
        "id": "ugXz5j9m54gI"
      },
      "execution_count": 40,
      "outputs": []
    },
    {
      "cell_type": "code",
      "source": [
        "# Storing all lables\n",
        "all_lables = ['Speed limit (20km/h)','Speed limit (30km/h)','Speed limit (50km/h)','Speed limit (60km/h)',\n",
        "              'Speed limit (70km/h)','Speed limit (80km/h)','End of speed limit (80km/h)','Speed limit (100km/h)',\n",
        "              'Speed limit (120km/h)','No passing','No passing for vechiles over 3.5 metric tons',\n",
        "              'Right-of-way at the next intersection','Priority road','Yield','Stop','No vechiles',\n",
        "              'Vechiles over 3.5 metric tons prohibited','No entry','General caution','Dangerous curve to the left',\n",
        "              'Dangerous curve to the right','Double curve','Bumpy road','Slippery road','Road narrows on the right',\n",
        "              'Road work','Traffic signals','Pedestrians','Children crossing','Bicycles crossing','Beware of ice/snow',\n",
        "              'Wild animals crossing','End of all speed and passing limits','Turn right ahead','Turn left ahead',\n",
        "              'Ahead only','Go straight or right','Go straight or left','Keep right','Keep left','Roundabout mandatory',\n",
        "              'End of no passing','End of no passing by vechiles over 3.5 metric']"
      ],
      "metadata": {
        "id": "ZemOmY0t5AZ0"
      },
      "execution_count": 41,
      "outputs": []
    },
    {
      "cell_type": "code",
      "source": [
        "# Visualize test image\n",
        "img = Image.open(test_path + '/00001.png')\n",
        "img"
      ],
      "metadata": {
        "colab": {
          "base_uri": "https://localhost:8080/",
          "height": 62
        },
        "id": "ZVu9sRIN5AiP",
        "outputId": "256f0970-4783-41ba-b1e7-d16143f27670"
      },
      "execution_count": 42,
      "outputs": [
        {
          "output_type": "execute_result",
          "data": {
            "text/plain": [
              "<PIL.PngImagePlugin.PngImageFile image mode=RGB size=42x45 at 0x7FD1B9D4ABE0>"
            ],
            "image/png": "[encoded data removed]"
          },
          "metadata": {},
          "execution_count": 42
        }
      ]
    },
    {
      "cell_type": "code",
      "source": [
        "# Original label\n",
        "print(\"Original label : \",all_lables[y_test[1]])"
      ],
      "metadata": {
        "colab": {
          "base_uri": "https://localhost:8080/"
        },
        "id": "YuJxL1Wy5AqQ",
        "outputId": "6457100b-b88a-41bd-a1ca-901121fb4c93"
      },
      "execution_count": 43,
      "outputs": [
        {
          "output_type": "stream",
          "name": "stdout",
          "text": [
            "Original label :  Speed limit (30km/h)\n"
          ]
        }
      ]
    },
    {
      "cell_type": "code",
      "source": [
        "# Predicted label\n",
        "print(\"Predicted label : \",all_lables[y_pred[1]])"
      ],
      "metadata": {
        "colab": {
          "base_uri": "https://localhost:8080/"
        },
        "id": "ADPeM_kV5LNB",
        "outputId": "b2abd06d-8356-4931-ee79-2c7065182985"
      },
      "execution_count": 44,
      "outputs": [
        {
          "output_type": "stream",
          "name": "stdout",
          "text": [
            "Predicted label :  Speed limit (30km/h)\n"
          ]
        }
      ]
    },
    {
      "cell_type": "code",
      "source": [
        "# Visualize test image\n",
        "img = Image.open(test_path + '/00001.png')\n",
        "img"
      ],
      "metadata": {
        "colab": {
          "base_uri": "https://localhost:8080/",
          "height": 62
        },
        "id": "wgF-CWco74r2",
        "outputId": "a03cf28e-d8fc-4d0f-86a8-d9f9a21968d1"
      },
      "execution_count": 55,
      "outputs": [
        {
          "output_type": "execute_result",
          "data": {
            "text/plain": [
              "<PIL.PngImagePlugin.PngImageFile image mode=RGB size=42x45 at 0x7FD215BC4D90>"
            ],
            "image/png": "[encoded data removed]"
          },
          "metadata": {},
          "execution_count": 55
        }
      ]
    }
  ]
}